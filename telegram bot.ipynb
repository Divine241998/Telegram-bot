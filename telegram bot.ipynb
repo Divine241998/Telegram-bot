{
 "cells": [
  {
   "cell_type": "code",
   "execution_count": null,
   "id": "37cb4b38",
   "metadata": {},
   "outputs": [],
   "source": [
    "import requests\n",
    "from env__ import api_key\n",
    "mydict = {\"name\":\"i am first_bot\",\"old\":\"i am +1 day old,lol\",\"age\":\"i am +1 day old,lol\",\"what year\":\"please ask google\",\"years\":\"i am +1 day old,lol\",\"money\":\"what do you need money for?\",\"help\":\"i cannot help you at the moment\"}\n",
    "check = mydict.keys()\n",
    "def get_msg(offset):\n",
    "    parameters = {\"offset\": str(offset)}\n",
    "    response = requests.get(api_key+\"/getUpdates\", data = parameters)\n",
    "    data = response.json()\n",
    "    for result in data[\"result\"]:\n",
    "        name = result[\"message\"][\"from\"][\"first_name\"]\n",
    "        if \"hi\" in result[\"message\"][\"text\"].lower():\n",
    "            send_msg(\"hello {}\".format(name))\n",
    "        for i in list(check):\n",
    "            if i in result[\"message\"][\"text\"].lower():\n",
    "                send_msg(mydict[i])\n",
    "    if data[\"result\"]:\n",
    "        return data[\"result\"][-1][\"update_id\"]+1\n",
    "def send_msg(m):\n",
    "    parameter = {\"chat_id\":\"-618061244\", \"text\": m}\n",
    "    res = requests.get(api_key+\"/sendMessage\", data = parameter)\n",
    "offset = 0\n",
    "while True:\n",
    "    offset = get_msg(offset)"
   ]
  },
  {
   "cell_type": "code",
   "execution_count": null,
   "id": "cd9f0911",
   "metadata": {},
   "outputs": [],
   "source": []
  }
 ],
 "metadata": {
  "kernelspec": {
   "display_name": "Python 3 (ipykernel)",
   "language": "python",
   "name": "python3"
  },
  "language_info": {
   "codemirror_mode": {
    "name": "ipython",
    "version": 3
   },
   "file_extension": ".py",
   "mimetype": "text/x-python",
   "name": "python",
   "nbconvert_exporter": "python",
   "pygments_lexer": "ipython3",
   "version": "3.9.7"
  }
 },
 "nbformat": 4,
 "nbformat_minor": 5
}
